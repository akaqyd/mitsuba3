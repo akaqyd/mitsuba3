{
 "cells": [
  {
   "cell_type": "code",
   "execution_count": 1,
   "metadata": {},
   "outputs": [
    {
     "name": "stdout",
     "output_type": "stream",
     "text": [
      "Loaded Mitsuba from:  /Users/qiyuand/Documents/Personal/EPFL/2022Fall/SP/codebase/mitsuba3/build/python/mitsuba\n",
      "Loaded Mitsuba from:  /Users/qiyuand/Documents/Personal/EPFL/2022Fall/SP/codebase/mitsuba3/build/python/drjit\n"
     ]
    }
   ],
   "source": [
    "import mitsuba as mi\n",
    "import drjit as dr\n",
    "\n",
    "from typing import Union\n",
    "import matplotlib.pyplot as plt\n",
    "import numpy as np\n",
    "\n",
    "import os\n",
    "\n",
    "print(\"Loaded Mitsuba from: \", os.path.dirname(mi.__file__))\n",
    "print(\"Loaded Mitsuba from: \", os.path.dirname(dr.__file__))\n",
    "\n"
   ]
  },
  {
   "cell_type": "code",
   "execution_count": 2,
   "metadata": {},
   "outputs": [
    {
     "data": {
      "text/html": [
       "<span style=\"font-family: monospace\">2022-10-11 22:27:49 INFO  main  [xml.cpp:1405] Loading XML file &quot;./bspline_curve.xml&quot; with variant &quot;llvm_ad_rgb&quot;..</span>"
      ]
     },
     "metadata": {},
     "output_type": "display_data"
    },
    {
     "data": {
      "text/html": [
       "<span style=\"font-family: monospace; color: #bbb\">2022-10-11 22:27:49 DEBUG main  [PluginManager] Loading plugin &quot;plugins/depth.dylib&quot; ..</span>"
      ]
     },
     "metadata": {},
     "output_type": "display_data"
    },
    {
     "data": {
      "text/html": [
       "<span style=\"font-family: monospace; color: #bbb\">2022-10-11 22:27:49 DEBUG main  [PluginManager] Loading plugin &quot;plugins/independent.dylib&quot; ..</span>"
      ]
     },
     "metadata": {},
     "output_type": "display_data"
    },
    {
     "data": {
      "text/html": [
       "<span style=\"font-family: monospace; color: #bbb\">2022-10-11 22:27:49 DEBUG main  [PluginManager] Loading plugin &quot;plugins/tent.dylib&quot; ..</span>"
      ]
     },
     "metadata": {},
     "output_type": "display_data"
    },
    {
     "data": {
      "text/html": [
       "<span style=\"font-family: monospace; color: #bbb\">2022-10-11 22:27:49 DEBUG main  [PluginManager] Loading plugin &quot;plugins/hdrfilm.dylib&quot; ..</span>"
      ]
     },
     "metadata": {},
     "output_type": "display_data"
    },
    {
     "data": {
      "text/html": [
       "<span style=\"font-family: monospace; color: #bbb\">2022-10-11 22:27:49 DEBUG main  [PluginManager] Loading plugin &quot;plugins/perspective.dylib&quot; ..</span>"
      ]
     },
     "metadata": {},
     "output_type": "display_data"
    },
    {
     "data": {
      "text/html": [
       "<span style=\"font-family: monospace; color: #bbb\">2022-10-11 22:27:49 DEBUG main  [PluginManager] Loading plugin &quot;plugins/bspline.dylib&quot; ..</span>"
      ]
     },
     "metadata": {},
     "output_type": "display_data"
    },
    {
     "data": {
      "text/html": [
       "<span style=\"font-family: monospace; color: #bbb\">2022-10-11 22:27:49 DEBUG main  [PluginManager] Loading plugin &quot;plugins/diffuse.dylib&quot; ..</span>"
      ]
     },
     "metadata": {},
     "output_type": "display_data"
    },
    {
     "data": {
      "text/html": [
       "<span style=\"font-family: monospace; color: #bbb\">2022-10-11 22:27:49 DEBUG main  [PluginManager] Loading plugin &quot;plugins/uniform.dylib&quot; ..</span>"
      ]
     },
     "metadata": {},
     "output_type": "display_data"
    },
    {
     "data": {
      "text/html": [
       "<span style=\"font-family: monospace; color: #bbb\">2022-10-11 22:27:49 DEBUG main  [BSpline] Loading a bspline curve file from &quot;bspline_sample_1.txt&quot; ..</span>"
      ]
     },
     "metadata": {},
     "output_type": "display_data"
    },
    {
     "data": {
      "text/html": [
       "<span style=\"font-family: monospace; color: #bbb\">2022-10-11 22:27:49 DEBUG main  [BSpline] Loaded a control point [-1.5, -3.5, 0] with radius 0.010000</span>"
      ]
     },
     "metadata": {},
     "output_type": "display_data"
    },
    {
     "data": {
      "text/html": [
       "<span style=\"font-family: monospace; color: #bbb\">2022-10-11 22:27:49 DEBUG main  [BSpline] Loaded a control point [-1, 0.5, 3] with radius 0.400000</span>"
      ]
     },
     "metadata": {},
     "output_type": "display_data"
    },
    {
     "data": {
      "text/html": [
       "<span style=\"font-family: monospace; color: #bbb\">2022-10-11 22:27:49 DEBUG main  [BSpline] Loaded a control point [1, 0.5, 3] with radius 0.400000</span>"
      ]
     },
     "metadata": {},
     "output_type": "display_data"
    },
    {
     "data": {
      "text/html": [
       "<span style=\"font-family: monospace; color: #bbb\">2022-10-11 22:27:49 DEBUG main  [BSpline] Loaded a control point [1.5, -3.5, 0] with radius 0.400000</span>"
      ]
     },
     "metadata": {},
     "output_type": "display_data"
    },
    {
     "data": {
      "text/html": [
       "<span style=\"font-family: monospace; color: #bbb\">2022-10-11 22:27:49 DEBUG main  [BSpline] Loaded a control point [0, 10, 0] with radius 0.010000</span>"
      ]
     },
     "metadata": {},
     "output_type": "display_data"
    },
    {
     "data": {
      "text/html": [
       "<span style=\"font-family: monospace; color: #bbb\">2022-10-11 22:27:49 DEBUG main  [BSpline] &quot;bspline_sample_1.txt&quot;: read 5 control points (80 B in 2ms)</span>"
      ]
     },
     "metadata": {},
     "output_type": "display_data"
    },
    {
     "data": {
      "text/html": [
       "<span style=\"font-family: monospace\">2022-10-11 22:27:49 INFO  main  [Scene] Embree ready. (took 15ms)</span>"
      ]
     },
     "metadata": {},
     "output_type": "display_data"
    },
    {
     "data": {
      "text/html": [
       "<span style=\"font-family: monospace\">2022-10-11 22:27:49 INFO  main  [xml.cpp:1423] Done loading XML file &quot;./bspline_curve.xml&quot; (took 63ms).</span>"
      ]
     },
     "metadata": {},
     "output_type": "display_data"
    },
    {
     "name": "stdout",
     "output_type": "stream",
     "text": [
      "Loaded scene file from:  ./bspline_curve.xml\n"
     ]
    }
   ],
   "source": [
    "scene_path = \"./bspline_curve.xml\"\n",
    "scene = mi.load_file(scene_path)\n",
    "print(\"Loaded scene file from: \", scene_path)"
   ]
  },
  {
   "cell_type": "code",
   "execution_count": 3,
   "metadata": {},
   "outputs": [
    {
     "data": {
      "text/html": [
       "<span style=\"font-family: monospace\">2022-10-11 22:27:49 INFO  main  [SamplingIntegrator] Starting render job (1024x768, 16 samples)</span>"
      ]
     },
     "metadata": {},
     "output_type": "display_data"
    },
    {
     "data": {
      "text/html": [
       "<span style=\"font-family: monospace\">2022-10-11 22:27:49 INFO  main  [SamplingIntegrator] Computation graph recorded. (took 2ms)</span>"
      ]
     },
     "metadata": {},
     "output_type": "display_data"
    }
   ],
   "source": [
    "image = mi.render(scene, spp=16)"
   ]
  },
  {
   "cell_type": "code",
   "execution_count": 4,
   "metadata": {},
   "outputs": [
    {
     "data": {
      "image/png": "[encoded data removed]",
      "text/plain": [
       "<Figure size 640x480 with 1 Axes>"
      ]
     },
     "metadata": {},
     "output_type": "display_data"
    }
   ],
   "source": [
    "img_np = np.array(image)\n",
    "plt.axis(\"off\")\n",
    "plt.imshow(img_np / img_np.max()); # approximate sRGB tonemapping"
   ]
  },
  {
   "cell_type": "code",
   "execution_count": 5,
   "metadata": {},
   "outputs": [],
   "source": [
    "mi.util.write_bitmap(\"./bspline_mitsuba_embree_t_far.exr\", image / 10.0)"
   ]
  }
 ],
 "metadata": {
  "kernelspec": {
   "display_name": "Python 3.9.13 ('mitsuba')",
   "language": "python",
   "name": "python3"
  },
  "language_info": {
   "codemirror_mode": {
    "name": "ipython",
    "version": 3
   },
   "file_extension": ".py",
   "mimetype": "text/x-python",
   "name": "python",
   "nbconvert_exporter": "python",
   "pygments_lexer": "ipython3",
   "version": "3.9.13"
  },
  "orig_nbformat": 4,
  "vscode": {
   "interpreter": {
    "hash": "bac3751ed84d85a8bf920b5cf614054fd10d8398226471204b589d64589cffe4"
   }
  }
 },
 "nbformat": 4,
 "nbformat_minor": 2
}

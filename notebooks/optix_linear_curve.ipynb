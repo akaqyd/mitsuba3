{
 "cells": [
  {
   "cell_type": "code",
   "execution_count": 1,
   "metadata": {},
   "outputs": [
    {
     "name": "stdout",
     "output_type": "stream",
     "text": [
      "Loaded Mitsuba from:  /home/qiyuan/sp/mitsuba3/build/python/mitsuba\n",
      "Loaded Mitsuba from:  /home/qiyuan/sp/mitsuba3/build/python/drjit\n"
     ]
    },
    {
     "data": {
      "text/html": [
       "<span style=\"font-family: monospace\">2022-11-05 16:09:35 INFO  main  [xml.cpp:1405] Loading XML file &quot;/home/qiyuan/sp/notebooks/linear_curve.xml&quot; with variant &quot;cuda_ad_rgb&quot;..</span>"
      ]
     },
     "metadata": {},
     "output_type": "display_data"
    },
    {
     "data": {
      "text/html": [
       "<span style=\"font-family: monospace; color: #bbb\">2022-11-05 16:09:35 DEBUG main  [PluginManager] Loading plugin &quot;plugins/depth.so&quot; ..</span>"
      ]
     },
     "metadata": {},
     "output_type": "display_data"
    },
    {
     "data": {
      "text/html": [
       "<span style=\"font-family: monospace; color: #bbb\">2022-11-05 16:09:35 DEBUG main  [PluginManager] Loading plugin &quot;plugins/independent.so&quot; ..</span>"
      ]
     },
     "metadata": {},
     "output_type": "display_data"
    },
    {
     "data": {
      "text/html": [
       "<span style=\"font-family: monospace; color: #bbb\">2022-11-05 16:09:35 DEBUG main  [PluginManager] Loading plugin &quot;plugins/tent.so&quot; ..</span>"
      ]
     },
     "metadata": {},
     "output_type": "display_data"
    },
    {
     "data": {
      "text/html": [
       "<span style=\"font-family: monospace; color: #bbb\">2022-11-05 16:09:35 DEBUG main  [PluginManager] Loading plugin &quot;plugins/hdrfilm.so&quot; ..</span>"
      ]
     },
     "metadata": {},
     "output_type": "display_data"
    },
    {
     "data": {
      "text/html": [
       "<span style=\"font-family: monospace; color: #bbb\">2022-11-05 16:09:35 DEBUG main  [PluginManager] Loading plugin &quot;plugins/perspective.so&quot; ..</span>"
      ]
     },
     "metadata": {},
     "output_type": "display_data"
    },
    {
     "data": {
      "text/html": [
       "<span style=\"font-family: monospace; color: #bbb\">2022-11-05 16:09:35 DEBUG main  [PluginManager] Loading plugin &quot;plugins/linearcurve.so&quot; ..</span>"
      ]
     },
     "metadata": {},
     "output_type": "display_data"
    },
    {
     "data": {
      "text/html": [
       "<span style=\"font-family: monospace; color: #bbb\">2022-11-05 16:09:35 DEBUG main  [PluginManager] Loading plugin &quot;plugins/diffuse.so&quot; ..</span>"
      ]
     },
     "metadata": {},
     "output_type": "display_data"
    },
    {
     "data": {
      "text/html": [
       "<span style=\"font-family: monospace; color: #bbb\">2022-11-05 16:09:35 DEBUG main  [PluginManager] Loading plugin &quot;plugins/uniform.so&quot; ..</span>"
      ]
     },
     "metadata": {},
     "output_type": "display_data"
    },
    {
     "data": {
      "text/html": [
       "<span style=\"font-family: monospace; color: #bbb\">2022-11-05 16:09:35 DEBUG main  [LinearCurve] Loading a linear curve file from &quot;linear_sample_1.txt&quot; ..</span>"
      ]
     },
     "metadata": {},
     "output_type": "display_data"
    },
    {
     "data": {
      "text/html": [
       "<span style=\"font-family: monospace; color: #bbb\">2022-11-05 16:09:35 DEBUG main  [LinearCurve] Loaded a control point [-1.5, -1.5, 0] with radius 0.010000</span>"
      ]
     },
     "metadata": {},
     "output_type": "display_data"
    },
    {
     "data": {
      "text/html": [
       "<span style=\"font-family: monospace; color: #bbb\">2022-11-05 16:09:35 DEBUG main  [LinearCurve] Loaded a control point [-1, 0.5, 3] with radius 0.400000</span>"
      ]
     },
     "metadata": {},
     "output_type": "display_data"
    },
    {
     "data": {
      "text/html": [
       "<span style=\"font-family: monospace; color: #bbb\">2022-11-05 16:09:35 DEBUG main  [LinearCurve] Loaded a control point [1, 0.5, 3] with radius 0.400000</span>"
      ]
     },
     "metadata": {},
     "output_type": "display_data"
    },
    {
     "data": {
      "text/html": [
       "<span style=\"font-family: monospace; color: #bbb\">2022-11-05 16:09:35 DEBUG main  [LinearCurve] Loaded a control point [1.5, -1.5, 0] with radius 0.400000</span>"
      ]
     },
     "metadata": {},
     "output_type": "display_data"
    },
    {
     "data": {
      "text/html": [
       "<span style=\"font-family: monospace; color: #bbb\">2022-11-05 16:09:35 DEBUG main  [LinearCurve] Loaded a control point [0, 1, 0] with radius 0.010000</span>"
      ]
     },
     "metadata": {},
     "output_type": "display_data"
    },
    {
     "data": {
      "text/html": [
       "<span style=\"font-family: monospace; color: #bbb\">2022-11-05 16:09:35 DEBUG main  [LinearCurve] &quot;linear_sample_1.txt&quot;: read 5 control points (80 B in 3ms)</span>"
      ]
     },
     "metadata": {},
     "output_type": "display_data"
    },
    {
     "data": {
      "text/html": [
       "<span style=\"font-family: monospace\">2022-11-05 16:09:35 INFO  main  [Scene] Building scene in OptiX ..</span>"
      ]
     },
     "metadata": {},
     "output_type": "display_data"
    },
    {
     "data": {
      "text/html": [
       "<span style=\"font-family: monospace; color: #bbb\">2022-11-05 16:09:35 DEBUG main  [scene_optix.inl:76] Initialize Optix configuration (index=9)..</span>"
      ]
     },
     "metadata": {},
     "output_type": "display_data"
    },
    {
     "data": {
      "text/html": [
       "<span style=\"font-family: monospace; color: #bbb\">2022-11-05 16:09:35 DEBUG main  [LinearCurve] Optix_build_input done for one linear curve, numVertices 5, numPrimitives 4</span>"
      ]
     },
     "metadata": {},
     "output_type": "display_data"
    },
    {
     "data": {
      "text/html": [
       "<span style=\"font-family: monospace; color: #bbb\">2022-11-05 16:09:35 DEBUG main  [shapes.h:141] OptiXAccelBufferSizes  tempSizeInBytes:3480 outputSizeInBytes:3428 tempUpdateSizeInBytes:552</span>"
      ]
     },
     "metadata": {},
     "output_type": "display_data"
    },
    {
     "data": {
      "text/html": [
       "<span style=\"font-family: monospace; color: #bbb\">2022-11-05 16:09:35 DEBUG main  [Scene] ias.size() == 1</span>"
      ]
     },
     "metadata": {},
     "output_type": "display_data"
    },
    {
     "data": {
      "text/html": [
       "<span style=\"font-family: monospace\">2022-11-05 16:09:35 INFO  main  [Scene] OptiX ready. (took 66ms)</span>"
      ]
     },
     "metadata": {},
     "output_type": "display_data"
    },
    {
     "data": {
      "text/html": [
       "<span style=\"font-family: monospace\">2022-11-05 16:09:35 INFO  main  [xml.cpp:1422] Done loading XML file &quot;/home/qiyuan/sp/notebooks/linear_curve.xml&quot; (took 89ms).</span>"
      ]
     },
     "metadata": {},
     "output_type": "display_data"
    }
   ],
   "source": [
    "import os\n",
    "import sys\n",
    "sys.path.insert(0, \"/home/qiyuan/sp/mitsuba3/build/python\")\n",
    "\n",
    "import mitsuba as mi\n",
    "import drjit as dr\n",
    "\n",
    "from typing import Union\n",
    "import matplotlib.pyplot as plt\n",
    "import numpy as np\n",
    "\n",
    "\n",
    "print(\"Loaded Mitsuba from: \", os.path.dirname(mi.__file__))\n",
    "print(\"Loaded Mitsuba from: \", os.path.dirname(dr.__file__))\n",
    "\n",
    "mi.set_variant(\"cuda_ad_rgb\")\n",
    "\n",
    "scene_path = \"/home/qiyuan/sp/mitsuba3/notebooks/linear_curve.xml\"\n",
    "scene = mi.load_file(scene_path)"
   ]
  },
  {
   "cell_type": "code",
   "execution_count": 2,
   "metadata": {},
   "outputs": [
    {
     "data": {
      "text/html": [
       "<span style=\"font-family: monospace\">2022-11-05 16:09:40 INFO  main  [SamplingIntegrator] Starting render job (1024x768, 16 samples)</span>"
      ]
     },
     "metadata": {},
     "output_type": "display_data"
    },
    {
     "data": {
      "text/html": [
       "<span style=\"font-family: monospace\">2022-11-05 16:09:40 INFO  main  [SamplingIntegrator] Computation graph recorded. (took 3ms)</span>"
      ]
     },
     "metadata": {},
     "output_type": "display_data"
    }
   ],
   "source": [
    "image = mi.render(scene, spp=16)"
   ]
  },
  {
   "cell_type": "code",
   "execution_count": 3,
   "metadata": {},
   "outputs": [
    {
     "name": "stdout",
     "output_type": "stream",
     "text": [
      "7.9894843\n"
     ]
    },
    {
     "data": {
      "image/png": "[encoded data removed]",
      "text/plain": [
       "<Figure size 640x480 with 1 Axes>"
      ]
     },
     "metadata": {},
     "output_type": "display_data"
    }
   ],
   "source": [
    "img_np = np.array(image)\n",
    "print(img_np.max())\n",
    "plt.axis(\"off\")\n",
    "plt.imshow(img_np / img_np.max()); # approximate sRGB tonemapping"
   ]
  },
  {
   "cell_type": "code",
   "execution_count": 4,
   "metadata": {},
   "outputs": [],
   "source": [
    "mi.util.write_bitmap(\"./linear_mitsuba_optix_t_far.exr\", image / 10.0)"
   ]
  },
  {
   "cell_type": "code",
   "execution_count": null,
   "metadata": {},
   "outputs": [],
   "source": []
  }
 ],
 "metadata": {
  "kernelspec": {
   "display_name": "Python 3.9.13 ('mitsuba')",
   "language": "python",
   "name": "python3"
  },
  "language_info": {
   "codemirror_mode": {
    "name": "ipython",
    "version": 3
   },
   "file_extension": ".py",
   "mimetype": "text/x-python",
   "name": "python",
   "nbconvert_exporter": "python",
   "pygments_lexer": "ipython3",
   "version": "3.9.13"
  },
  "orig_nbformat": 4,
  "vscode": {
   "interpreter": {
    "hash": "32d63c363155e07cd3bc37bf3f9e73c27cb08825b4aae97e82f72dff45aa9e11"
   }
  }
 },
 "nbformat": 4,
 "nbformat_minor": 2
}

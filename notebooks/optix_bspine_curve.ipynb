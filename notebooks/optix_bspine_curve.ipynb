{
 "cells": [
  {
   "cell_type": "code",
   "execution_count": null,
   "metadata": {},
   "outputs": [],
   "source": [
    "import os\n",
    "import sys\n",
    "sys.path.insert(0, \"/home/qiyuan/sp/mitsuba3/build/python\")\n",
    "\n",
    "import mitsuba as mi\n",
    "import drjit as dr\n",
    "\n",
    "from typing import Union\n",
    "import matplotlib.pyplot as plt\n",
    "import numpy as np\n",
    "\n",
    "\n",
    "print(\"Loaded Mitsuba from: \", os.path.dirname(mi.__file__))\n",
    "print(\"Loaded Mitsuba from: \", os.path.dirname(dr.__file__))\n",
    "\n",
    "mi.set_variant(\"cuda_ad_rgb\")\n",
    "\n",
    "scene_path = \"/home/qiyuan/sp/notebooks/bspline_curve.xml\"\n",
    "scene = mi.load_file(scene_path)"
   ]
  }
 ],
 "metadata": {
  "language_info": {
   "name": "python"
  },
  "orig_nbformat": 4
 },
 "nbformat": 4,
 "nbformat_minor": 2
}

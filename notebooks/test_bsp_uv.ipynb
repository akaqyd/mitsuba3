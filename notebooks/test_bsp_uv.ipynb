{
 "cells": [
  {
   "cell_type": "code",
   "execution_count": 9,
   "metadata": {},
   "outputs": [],
   "source": [
    "import os\n",
    "import sys\n",
    "sys.path.insert(0, \"/home/ziyizhang/Desktop/Projects/mitsuba-curve/mitsuba3/build/python\")\n",
    "\n",
    "import mitsuba as mi\n",
    "import drjit as dr\n",
    "\n",
    "import numpy as np\n",
    "\n",
    "mi.set_variant(\"cuda_ad_rgb\")\n",
    "# mi.set_variant(\"scalar_rgb\")"
   ]
  },
  {
   "cell_type": "code",
   "execution_count": 10,
   "metadata": {},
   "outputs": [],
   "source": [
    "T = mi.ScalarTransform4f\n",
    "scene_dict = {\n",
    "    'type': 'scene',\n",
    "    'integrator': {\n",
    "        'type': 'path',\n",
    "        'max_depth': 8\n",
    "    },\n",
    "    'sensor': {\n",
    "        'type': 'perspective',\n",
    "        'to_world': T.look_at(\n",
    "            origin=[0, 0, 10],\n",
    "            target=[0, 0, 0],\n",
    "            up=[0, 1, 0]\n",
    "        ),\n",
    "        'sampler': {\n",
    "            'type': 'independent',\n",
    "            'sample_count': 64\n",
    "        },\n",
    "        'film': {\n",
    "            'type': 'hdrfilm',\n",
    "            'width' : 128,\n",
    "            'height': 128,\n",
    "        }\n",
    "    },\n",
    "    'light': {\n",
    "        \"type\": \"constant\",\n",
    "        'radiance': {\n",
    "            'type': 'rgb',\n",
    "            'value': 0.1,\n",
    "        }\n",
    "    },\n",
    "    \"checker\": {\n",
    "        'type': 'diffuse',\n",
    "        'reflectance': {\n",
    "            'type': 'checkerboard',\n",
    "            'to_uv': mi.ScalarTransform4f.scale([10, 10, 1])\n",
    "        }\n",
    "    },\n",
    "    \"curve1\": {\n",
    "        \"type\": \"bspline\",\n",
    "        \"filename\": \"data_samples/curve2.txt\",\n",
    "        \"to_world\": T.translate([0, 0.6, 0]) @ T.rotate([1, 0, 0], 0) @ T.scale(1),\n",
    "        \"bsdf\": {\"type\": \"ref\", \"id\": \"checker\"}\n",
    "    },\n",
    "    \"curve2\": {\n",
    "        \"type\": \"bspline\",\n",
    "        \"filename\": \"data_samples/curve2.txt\",\n",
    "        \"to_world\": T.translate([0, -0.6, 0]) @ T.rotate([1, 0, 0], 180) @ T.scale(1),\n",
    "        \"bsdf\": {\"type\": \"ref\", \"id\": \"checker\"}\n",
    "    },\n",
    "    \"curve3\": {\n",
    "        \"type\": \"bspline\",\n",
    "        \"filename\": \"data_samples/curve2.txt\",\n",
    "        \"to_world\": T.translate([0, -1.8, 0]) @ T.rotate([1, 0, 0], 180) @ T.scale(1),\n",
    "        \"bsdf\": {\"type\": \"ref\", \"id\": \"checker\"}\n",
    "    }\n",
    "}\n",
    "scene = mi.load_dict(scene_dict)"
   ]
  },
  {
   "cell_type": "code",
   "execution_count": 11,
   "metadata": {},
   "outputs": [],
   "source": [
    "aov_integrator = mi.load_dict({\n",
    "    \"type\": \"aov\",\n",
    "    'aovs': 'uv:uv,nn:sh_normal,dpdu:dp_du,dpdv:dp_dv',\n",
    "    'my_image': {\n",
    "        'type': 'path',\n",
    "    }\n",
    "})\n",
    "\n",
    "image = aov_integrator.render(scene, spp=1024)\n",
    "scene.sensors()[0].film().write(f\"./aov.exr\")"
   ]
  },
  {
   "cell_type": "markdown",
   "metadata": {},
   "source": [
    "## Assert"
   ]
  },
  {
   "cell_type": "code",
   "execution_count": 12,
   "metadata": {},
   "outputs": [],
   "source": [
    "ray = mi.Ray3f([0, 1, -1e-5], [0, -1, 0])\n",
    "si = scene.ray_intersect(ray)"
   ]
  },
  {
   "cell_type": "code",
   "execution_count": 13,
   "metadata": {},
   "outputs": [
    {
     "data": {
      "text/plain": [
       "SurfaceInteraction[\n",
       "  t = [0.1],\n",
       "  time = [0],\n",
       "  wavelengths = [],\n",
       "  p = [[0, 0.9, -1e-05]],\n",
       "  shape = [0x560a03297190],\n",
       "  uv = [[0.5, 5.30516e-06]],\n",
       "  n = [[-0.0995087, 0.995037, -3.31679e-05]],\n",
       "  sh_frame = Frame[\n",
       "    s = [[0.995037, 0.0995087, -3.31696e-06]],\n",
       "    t = [[2.12839e-13, -3.33333e-05, -1]],\n",
       "    n = [[-0.0995087, 0.995037, -3.31679e-05]]\n",
       "  ],\n",
       "  dp_du = [[1, 0.1, -3.33333e-06]],\n",
       "  dp_dv = [[0, -6.28319e-05, -1.88496]],\n",
       "  dn_du = [[0, 0, 0]],\n",
       "  dn_dv = [[0, 0, 0]],\n",
       "  duv_dx = [[0, 0]],\n",
       "  duv_dy = [[0, 0]],\n",
       "  wi = [[0.0995087, -3.33333e-05, 0.995037]],\n",
       "  prim_index = [2],\n",
       "  instance = [0x0]\n",
       "]"
      ]
     },
     "execution_count": 13,
     "metadata": {},
     "output_type": "execute_result"
    }
   ],
   "source": [
    "si"
   ]
  },
  {
   "cell_type": "code",
   "execution_count": 14,
   "metadata": {},
   "outputs": [],
   "source": [
    "normal_theory = dr.normalize(mi.Vector3f(-0.1, 1, 0))\n",
    "assert(dr.allclose(normal_theory, si.n, atol=1e-4))"
   ]
  },
  {
   "cell_type": "code",
   "execution_count": 15,
   "metadata": {},
   "outputs": [],
   "source": [
    "uv_theory = mi.Vector2f(0.5, 0.0)\n",
    "assert(dr.allclose(uv_theory, si.uv, atol=1e-4))"
   ]
  },
  {
   "cell_type": "code",
   "execution_count": 18,
   "metadata": {},
   "outputs": [],
   "source": [
    "dp_du_theory = mi.Vector3f(1, 0.1, 0)\n",
    "assert(dr.allclose(dp_du_theory, si.dp_du, atol=1e-4))"
   ]
  },
  {
   "cell_type": "code",
   "execution_count": 19,
   "metadata": {},
   "outputs": [],
   "source": [
    "dp_dv_theory = mi.Vector3f(0, 0, -dr.two_pi * 0.3)\n",
    "assert(dr.allclose(dp_dv_theory, si.dp_dv, atol=1e-4))"
   ]
  },
  {
   "cell_type": "code",
   "execution_count": null,
   "metadata": {},
   "outputs": [],
   "source": []
  }
 ],
 "metadata": {
  "kernelspec": {
   "display_name": "Python 3.8.8 ('base')",
   "language": "python",
   "name": "python3"
  },
  "language_info": {
   "codemirror_mode": {
    "name": "ipython",
    "version": 3
   },
   "file_extension": ".py",
   "mimetype": "text/x-python",
   "name": "python",
   "nbconvert_exporter": "python",
   "pygments_lexer": "ipython3",
   "version": "3.8.8"
  },
  "orig_nbformat": 4,
  "vscode": {
   "interpreter": {
    "hash": "324262bda25e4aeb89fac5521e5e52d6dea4600b0315b63007798d9c65d5c62c"
   }
  }
 },
 "nbformat": 4,
 "nbformat_minor": 2
}
